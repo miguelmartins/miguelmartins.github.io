{
 "cells": [
  {
   "cell_type": "markdown",
   "source": [
    "## Preliminaries\n",
    "Access the following file in google drive:\n",
    "https://drive.google.com/drive/folders/1JelLO7mhzo-uttHvYrwLIxFmipceRrLP?usp=sharing\n",
    "\n",
    "Right-click it then: select Organize, Add Shortcut.\n",
    "\n",
    "This will allow you to read the files using the provided code in this tutorial!\n",
    "\n",
    "**If you could not follow along the first part until the end do not worry, we provide base files for this part!**"
   ],
   "metadata": {
    "id": "aFLm25xsVCMf"
   }
  },
  {
   "cell_type": "code",
   "execution_count": 1,
   "metadata": {
    "id": "KUzVZjIM4vGj"
   },
   "outputs": [],
   "source": [
    "import os\n",
    "\n",
    "import librosa\n",
    "import logging\n",
    "import numpy as np\n",
    "import pandas as pd\n",
    "import scipy.io as sio\n",
    "import scipy.signal\n",
    "import re\n",
    "\n",
    "from scipy.io import wavfile\n",
    "from PIL import Image\n",
    "import tensorflow as tf\n",
    "from tqdm import tqdm\n",
    "import matplotlib.pyplot as plt"
   ]
  },
  {
   "cell_type": "code",
   "execution_count": 2,
   "metadata": {
    "colab": {
     "base_uri": "https://localhost:8080/"
    },
    "id": "Mqz8d8Ch4wDy",
    "outputId": "d73ef13f-8369-4c80-b0a3-c9d922cb4115"
   },
   "outputs": [
    {
     "output_type": "stream",
     "name": "stdout",
     "text": [
      "Mounted at /content/drive\n"
     ]
    }
   ],
   "source": [
    "from google.colab import drive\n",
    "drive.mount('/content/drive')"
   ]
  },
  {
   "cell_type": "markdown",
   "metadata": {
    "id": "EFHauiAQ5NLJ"
   },
   "source": [
    "\n",
    "\n",
    "\n",
    "# 1. Input pipepeline\n",
    "We are going to develop some primitives of  [Martins et al.](https://github.com/miguelmartins/mnn) from scratch in order to process the PCG data efficiently. Moreover, we will be adapting the approach of [Renna et al.](https://ieeexplore.ieee.org/abstract/document/8620278) to build a heart sound segmentation model.\n",
    "\n",
    "\n",
    "The U-Net based approach proposed by Renna et al. trains a U-Net fully convolutional network (FCN) on patches of size $P$.\n",
    "\n",
    "Denote by $\\mathbf{x}_i(t, \\tau)$ a patch of size $P$ computed with stride $\\tau$ over input recording $\\mathbf{x}_i(t)$ spanning $T_i$ samples, so that $\\mathbf{x}_i (t, \\tau) \\in X$ and $X \\subset \\mathbb{R}^{P\\times C}$, where $C$ is the number of channels (i.e., envelograms).\n",
    "\n",
    "The parameters $\\theta^*$ of the U-Net mapping $X→Y$, so that , $Y = \\{0,1,2,3\\}^{P\\times 4}$ will be selected according to  \n",
    "\n",
    "$$ \\theta^* = \\arg\\min_{\\theta} \\sum_{i=1}^N \\sum_{t=1}^{T_i}\\sum_{\\tau=0}^{T_i - P}  -\\log P(\\mathbf{y}_i(t, \\tau) \\mid \\mathbf{x}_i(t, \\tau), \\theta).$$\n",
    "\n",
    "We will find $\\theta^*$ using stochastic gradient descent.\n"
   ]
  },
  {
   "cell_type": "code",
   "execution_count": null,
   "metadata": {
    "id": "d84tJ6TR5gOb"
   },
   "outputs": [],
   "source": [
    "# If you have custom files with your own features use your filenames!\n",
    "# The provided files are the ones expected for a completion of part 1 of\n",
    "# the tutorial without the bonus sections.\n",
    "train = np.load('drive/MyDrive/circor-dataset/train_data.npy', allow_pickle=True)\n",
    "val = np.load('drive/MyDrive/circor-dataset/val_data.npy', allow_pickle=True)\n",
    "test = np.load('drive/MyDrive/circor-dataset/test_data.npy', allow_pickle=True)"
   ]
  },
  {
   "cell_type": "markdown",
   "metadata": {
    "id": "wc7_NEjQ5WyC"
   },
   "source": [
    "## 1.1 One-hot-encoding of labels and filtering sounds smaller than patch size\n",
    "Our neural net will map the patches of each sound $\\mathbf{x}_i({t})$ to $[0,1]^{T_i \\times4}$, i.e., the probability that the signal at time $t$ belongs to each of the 4 states (S1, systole, S2, diastole). The labels are ordinals $\\mathbf{y}_i(t) \\in \\{1, 2, 3, 4\\}$. These are converted to one-hot vectors.\n",
    "\n"
   ]
  },
  {
   "cell_type": "markdown",
   "source": [
    "\n",
    "We will be using a patch size $P=64$ samples, so for a sample rate of 50Hz, the window spans roughly 1.3 seconds.\n",
    "\n",
    "We will processing the sounds patch-by-patch, so we will be discarding recordings that do not span at least one patch $P$.\n",
    "\n",
    "Run the following code to apply these steps to each dataset.\n",
    "\n",
    "Note that if you have more than 2 envelograms from Tutorial 1 you need to change `nch` (i.e., number of channels) accordingly.\n",
    "\n",
    "We recommend starting with `stride=32`, but you can revisit this part of the tutorial later and adapt all parameters to your liking.\n",
    "\n"
   ],
   "metadata": {
    "id": "MTNMmiYKlPMN"
   }
  },
  {
   "cell_type": "code",
   "execution_count": null,
   "metadata": {
    "id": "9AVpCIL7Arcj"
   },
   "outputs": [],
   "source": [
    "def filter_smaller_than_patch(features, patch_size):\n",
    "    # Remove sounds shorter than patch size and return their indices\n",
    "    return np.array([j for j in range(len(features)) if len(features[j]) >= patch_size], dtype=int)\n",
    "\n",
    "patch_size = 64\n",
    "nch = 2\n",
    "stride = 32\n",
    "\n",
    "# Ensure indices are integers and apply them correctly to filter the datasets\n",
    "train_indices = filter_smaller_than_patch(train[:, 2], patch_size)\n",
    "val_indices = filter_smaller_than_patch(val[:, 2], patch_size)\n",
    "test_indices = filter_smaller_than_patch(test[:, 2], patch_size)\n",
    "\n",
    "train = train[train_indices, ...]\n",
    "val = val[val_indices, ...]\n",
    "test = test[test_indices, ...]\n",
    "\n",
    "def one_hot(label_column: np.array, num_states: int=4):\n",
    "    label_column = label_column - 1  # make it go to [0, 1, 2, 3]\n",
    "    return np.eye(num_states)[label_column]\n",
    "\n",
    "apply_one_hot = lambda labels: np.array([one_hot(label) for label in labels], dtype=object)\n",
    "\n",
    "train[:, 5] = apply_one_hot(train[:, 5])\n",
    "val[:, 5] = apply_one_hot(val[:, 5])\n",
    "test[:, 5] = apply_one_hot(test[:, 5])"
   ]
  },
  {
   "cell_type": "markdown",
   "metadata": {
    "id": "bSBtI5Wj5mhX"
   },
   "source": [
    "# 2. Training ETL pipeline\n",
    "The U-Net takes as input patches of a given size $P$.\n",
    "Note that our sounds are downsampled to 50Hz by now (80$\\times$ smaller than the original 4KHz). However, loading all sound patches, especially if they overlap, may have unrealistic V-RAM requirements for most scenarios.\n",
    "\n",
    "With that in mind, we will have to compute our sound patches dynamically, i.e. online during training or inference.\n",
    "\n",
    "We will use the [TensorFlow data API](https://www.tensorflow.org/guide/data) to implement this strategy.\n",
    "Please inspect the following class `PCGDataPreparer` which will handle all the [ETL](https://tinyurl.com/527fak67) for our deep learning data pipeline.\n",
    "\n",
    "Generators use the yield statement to produce a series of values, \"pausing\" the function each time a yield is encountered and resuming the execution in the next iteration. This makes them memory-efficient because they only produce items as needed, unlike lists that store all items in memory. Naturally, this solution is slower than pre-computing all patches.\n",
    "\n",
    "## 2.1. Inspect the `_compute_pcg_patches` function\n",
    "The function implements a sliding window function over $\\mathbf{x}_i, \\mathbf{y}_i$ and compute windows of size `patch_size` using  offset of `stride` between them.\n",
    "\n",
    "Note that what when $(T_i - P) \\,\\text{mod}\\, \\tau > 0$, we need to add an extra window at the end of the sound at position $T_i - P$ so that we have samples spanning the entire signal.\n",
    "\n",
    "The following c"
   ]
  },
  {
   "cell_type": "code",
   "source": [
    "from IPython.display import Image, display\n",
    "\n",
    "# Visualization of three patches\n",
    "image_path = '/content/drive/MyDrive/circor-dataset/heartbeat_v1.png'\n",
    "display(Image(filename=image_path))"
   ],
   "metadata": {
    "colab": {
     "base_uri": "https://localhost:8080/",
     "height": 351
    },
    "id": "JyUZVKfH6A1k",
    "outputId": "db80ece2-ddb1-461e-82a1-f6ab05a06add"
   },
   "execution_count": 6,
   "outputs": [
    {
     "output_type": "display_data",
     "data": {
      "image/png": "[encoded data removed]",
      "text/plain": [
       "<IPython.core.display.Image object>"
      ]
     },
     "metadata": {}
    }
   ]
  },
  {
   "cell_type": "code",
   "execution_count": null,
   "metadata": {
    "id": "fOI85xdM5cFg"
   },
   "outputs": [],
   "source": [
    "# TODO: Provide this class already implemented\n",
    "class PCGDataPreparer:\n",
    "    def __init__(self, patch_size: int , stride: int, number_channels: int=2, num_states: int=4):\n",
    "        self.patch_size = patch_size\n",
    "        self.stride = stride\n",
    "        self.number_channels = number_channels\n",
    "        self.num_states = num_states\n",
    "        self.features = None\n",
    "        self.labels = None\n",
    "\n",
    "    def _compute_pcg_patches(self, sound, label):\n",
    "        num_samples = len(sound)\n",
    "        num_windows = int((num_samples - self.patch_size) / self.stride) + 1\n",
    "        for window_idx in range(num_windows):\n",
    "            patch_start = window_idx * self.stride\n",
    "            yield sound[patch_start:patch_start + self.patch_size, :],  label[patch_start: patch_start + self.patch_size, :]\n",
    "\n",
    "        window_remain = num_samples - self.patch_size\n",
    "        if window_remain % self.stride > 0:\n",
    "          yield sound[window_remain:, :], label[window_remain:, :]\n",
    "\n",
    "    def set_features_and_labels(self, features, labels):\n",
    "        self.features = features\n",
    "        self.labels = labels\n",
    "        num_observations = len(self.features)\n",
    "        total_windows = 0\n",
    "        for obs in features:\n",
    "          num_samples = len(features)\n",
    "          num_windows = int((num_samples - self.patch_size) / self.stride) + 1\n",
    "          window_remain = num_samples - self.patch_size\n",
    "          if window_remain % self.stride > 0:\n",
    "              num_windows += 1\n",
    "          total_windows += num_windows\n",
    "        self.num_steps = total_windows\n",
    "\n",
    "    def __call__(self):\n",
    "        num_observations = len(self.labels)\n",
    "        for obs_idx in range(num_observations):\n",
    "            features = tf.stack(self.features[obs_idx], axis=1) # np.column_stack\n",
    "            labels = self.labels[obs_idx]\n",
    "            for s,y in (self._compute_pcg_patches(features, labels)):\n",
    "              yield s, y"
   ]
  },
  {
   "cell_type": "markdown",
   "source": [
    "## 2.1.1 Instantiating the Data Preparers\n",
    "\n",
    "We will now create an instance of the class `PCGDataPreparer` for each dataset.\n",
    "\n",
    "---\n",
    "\n"
   ],
   "metadata": {
    "id": "bKr92ha3kpQi"
   }
  },
  {
   "cell_type": "code",
   "execution_count": null,
   "metadata": {
    "id": "CaIJuqP-5okA"
   },
   "outputs": [],
   "source": [
    "patch_size = 64\n",
    "nch = 2 # Change this if you have more than 2 features\n",
    "stride = 32\n",
    "train_dp = PCGDataPreparer(patch_size=patch_size,\n",
    "                     number_channels=nch,\n",
    "                     stride=stride,\n",
    "                     num_states=4)\n",
    "train_dp.set_features_and_labels(train[:, [3,4]], train[:, 5])\n",
    "\n",
    "val_dp = PCGDataPreparer(patch_size=patch_size,\n",
    "                     number_channels=nch,\n",
    "                     stride=stride,\n",
    "                     num_states=4)\n",
    "val_dp.set_features_and_labels(val[:, [3,4]], val[:, 5])\n",
    "\n",
    "test_dp = PCGDataPreparer(patch_size=patch_size,\n",
    "                     number_channels=nch,\n",
    "                     stride=stride,\n",
    "                     num_states=4)\n",
    "test_dp.set_features_and_labels(test[:, [3,4]], test[:, 5])"
   ]
  },
  {
   "cell_type": "markdown",
   "metadata": {
    "id": "cC2icT0g6CgG"
   },
   "source": [
    "## 2.1.2 TensorFlow Dataset and caching\n",
    "Run the following code to create the Tensorflow Dataset objects using our custom data generator. We will be using `.cache()` and `.prefetch()` from the [tf.Data API](https://www.tensorflow.org/guide/data_performance) to minimize the overhead of computing each batch of data online."
   ]
  },
  {
   "cell_type": "code",
   "execution_count": null,
   "metadata": {
    "id": "4Ewo4HRA6IHZ"
   },
   "outputs": [],
   "source": [
    "BATCH_SIZE = 32\n",
    "\n",
    "def get_data_from_generator(*, data_processor, batch_size, patch_size, number_channels, number_classes, trainable=True):\n",
    "    data = tf.data.Dataset.from_generator(data_processor,\n",
    "                                          output_signature=(\n",
    "                                              tf.TensorSpec(shape=(patch_size, number_channels), dtype=tf.float32),\n",
    "                                              tf.TensorSpec(shape=(patch_size, number_classes), dtype=tf.float32))\n",
    "                                          )\n",
    "    if trainable:\n",
    "        data.cache()\n",
    "    data = data.batch(batch_size)\n",
    "    data = data.prefetch(tf.data.AUTOTUNE)\n",
    "    return data\n",
    "\n",
    "train_dataset = get_data_from_generator(data_processor=train_dp,\n",
    "                                                batch_size=BATCH_SIZE,\n",
    "                                                patch_size=patch_size,\n",
    "                                                number_channels=nch,\n",
    "                                                number_classes=4,\n",
    "                                                trainable=True)\n",
    "\n",
    "\n",
    "val_dataset = get_data_from_generator(data_processor=val_dp,\n",
    "                                                batch_size=BATCH_SIZE,\n",
    "                                                patch_size=patch_size,\n",
    "                                                number_channels=nch,\n",
    "                                                number_classes=4,\n",
    "                                                trainable=False)\n",
    "\n",
    "test_dataset = get_data_from_generator(data_processor=test_dp,\n",
    "                                                batch_size=BATCH_SIZE,\n",
    "                                                patch_size=patch_size,\n",
    "                                                number_channels=nch,\n",
    "                                                number_classes=4,\n",
    "                                                trainable=False)"
   ]
  },
  {
   "cell_type": "markdown",
   "metadata": {
    "id": "AZozqcU47XAA"
   },
   "source": [
    "# 3. Training pipeline - The U-Net Architecture\n",
    "Introduced by [Ronneberg et al.](https://arxiv.org/abs/1505.04597) in 2015, the U-Net is ubiquitous in biomedical signal and image processing tasks.\n",
    "\n",
    "Although its efficacy is a result of several advancements of modern deep learning and optimization techniques, one of its characteristic architetural patterns are the skip connections from the encoder to the decoder.\n",
    "\n",
    "The idea is that low-resolution information is important for medical domains, which can be complementary to the semantical rich features in the decoder.\n",
    "\n",
    "Inspect and run the code below of a template for a simple U-Net adapted to process signals instead of images; using 1D instead of 2D primitives."
   ]
  },
  {
   "cell_type": "code",
   "execution_count": null,
   "metadata": {
    "id": "wFQ5Sn0L65FE"
   },
   "outputs": [],
   "source": [
    "import tensorflow as tf\n",
    "from tensorflow.keras import Input, Model\n",
    "from tensorflow.keras.layers import Conv1D, MaxPooling1D, Dropout, UpSampling1D, concatenate\n",
    "\n",
    "def example_unet(patch_size, nch, dropout=0.0):\n",
    "    inputs = tf.keras.layers.Input(shape=(patch_size, nch))\n",
    "    conv1 = tf.keras.layers.Conv1D(8, 3, activation='relu', padding='same')(inputs)\n",
    "    conv1 = tf.keras.layers.Conv1D(8, 3, activation='relu', padding='same')(conv1)\n",
    "    pool1 = tf.keras.layers.MaxPooling1D(pool_size=2)(conv1)\n",
    "    pool1 = tf.keras.layers.Dropout(dropout)(pool1)\n",
    "\n",
    "    conv2 = tf.keras.layers.Conv1D(16, 3, activation='relu', padding='same')(pool1)\n",
    "    conv2 = tf.keras.layers.Conv1D(16, 3, activation='relu', padding='same')(conv2)\n",
    "\n",
    "    up_prep = tf.keras.layers.UpSampling1D(size=2)(conv2)\n",
    "\n",
    "    up = tf.keras.layers.concatenate([tf.keras.layers.Conv1D(8, 2, padding='same')(up_prep), conv1], axis=2)\n",
    "    up = tf.keras.layers.Dropout(dropout)(up)\n",
    "    convout = tf.keras.layers.Conv1D(8, 3, activation='relu', padding='same')(up)\n",
    "    convout = tf.keras.layers.Conv1D(8, 3, activation='tanh', padding='same')(convout)\n",
    "\n",
    "    output_layer = tf.keras.layers.Conv1D(4, 1, activation='softmax')(convout)\n",
    "\n",
    "    model = tf.keras.Model(inputs=[inputs], outputs=[output_layer])\n",
    "    return model\n"
   ]
  },
  {
   "cell_type": "code",
   "source": [
    "model = example_unet(64, 2)\n",
    "print(model.summary())"
   ],
   "metadata": {
    "colab": {
     "base_uri": "https://localhost:8080/",
     "height": 662
    },
    "id": "6zRc37Vtago1",
    "outputId": "33cce234-348b-40a2-9673-76206244a26a",
    "pycharm": {
     "is_executing": true
    }
   },
   "execution_count": null,
   "outputs": []
  },
  {
   "cell_type": "markdown",
   "source": [
    "## 3.1 - Design your U-Net\n",
    "Can you improve the design of the U-Net, for instance, by adding more layers to increase its discriminative power?"
   ],
   "metadata": {
    "id": "m8kpW31Sbd6I"
   }
  },
  {
   "cell_type": "code",
   "source": [
    "def your_unet(patch_size, nch, ...):\n",
    "    # Your code\n",
    "    model = ...\n",
    "    return model"
   ],
   "metadata": {
    "id": "Wr6y3KGAbtmq"
   },
   "execution_count": null,
   "outputs": []
  },
  {
   "cell_type": "markdown",
   "source": [
    "## 3.1 Hyperparameter setting\n",
    "Instantiate your U-Net model and select a set of adequate metrics to track.\n",
    "\n",
    "Early stopping on validation set is performed using `ModelCheckpoint` on `val_loss`.\n",
    "\n"
   ],
   "metadata": {
    "id": "PGYlN9S9mUED"
   }
  },
  {
   "cell_type": "code",
   "execution_count": null,
   "metadata": {
    "id": "7qSjUstp8Dcz",
    "pycharm": {
     "is_executing": true
    }
   },
   "outputs": [],
   "source": [
    "from tensorflow.keras.optimizers import Adam\n",
    "from tensorflow.keras.callbacks import ModelCheckpoint\n",
    "\n",
    "EPOCHS = # your epochs\n",
    "learning_rate =  # your lr\n",
    "model = your_unet(patch_size, nch)  # use your unet_here\n",
    "checkpoint_path = 'unet_weights/unet.keras'\n",
    "model.compile(optimizer=Adam(learning_rate=learning_rate), loss='categorical_crossentropy',\n",
    "                  metrics=['categorical_accuracy', 'precision', 'recall'])\n",
    "model_checkpoint = ModelCheckpoint(filepath=checkpoint_path,\n",
    "                                   monitor='val_loss',\n",
    "                                   save_best_only=True)\n",
    "history = model.fit(train_dataset,\n",
    "                    validation_data=val_dataset,\n",
    "                    epochs=EPOCHS,\n",
    "                    verbose=1,\n",
    "                    shuffle=True, callbacks=[model_checkpoint])\n",
    "\n",
    "model.load_weights(checkpoint_path)"
   ]
  },
  {
   "cell_type": "markdown",
   "source": [
    "## 3.2 Hyperparameter tuning\n",
    "Can you choose better hyperparameters an\n",
    "d/or optimizer settings? Observe it improves your training metrics.\n",
    "\n",
    "If you want to experiment with different batch sizes you have to run cells 2.1.2 again. If you also want to change stride, you will have to start from 2.1.1.\n",
    "\n"
   ],
   "metadata": {
    "id": "HILdpKnSei5P"
   }
  },
  {
   "cell_type": "code",
   "source": [],
   "metadata": {
    "id": "nori5HZne5kh"
   },
   "execution_count": null,
   "outputs": []
  },
  {
   "cell_type": "markdown",
   "source": [
    "# 4. Inference pipeline\n",
    "Collect the predictions of the U-Net"
   ],
   "metadata": {
    "id": "hvsPE-UCgVa6"
   }
  },
  {
   "cell_type": "code",
   "execution_count": null,
   "metadata": {
    "id": "CkAdZAUS8OsG"
   },
   "outputs": [],
   "source": [
    "predictions_train = model.predict(train_dataset)\n",
    "val_test = model.predict(val_dataset)\n",
    "predictions_test = model.predict(test_dataset)"
   ]
  },
  {
   "cell_type": "markdown",
   "source": [
    "## 4.1. Post-processing\n",
    "`predictions_test` has the predictions on the test-set patch-wise in a patient agnostic fashion.\n",
    "\n",
    "We now need to associate the appropriate outputs for each recording in an adequate fashion. Moreover, the fact that we used an overalpping slidding window means that we will have several heart state estimates for a given time $t$.\n",
    "\n",
    "We will be averaging the U-Net's predictions across the patch dimension. Use the same strategy you used in the `PCGDataPreparer`. Let $N_{P_i} = \\lceil  \\frac{T_i - P}{\\tau} \\rceil$\n",
    "\n",
    "$$\\tilde{\\mathbf{y}}_i(t, \\tau) = \\frac{1}{N_{P_i}}\\sum_{t=1}^{N_{P_i}} \\text{U-Net}(\\mathbf{x}_i(t, \\tau)| \\theta^*)$$\n",
    "So $\\tilde{\\mathbf{y}}_i$ should have shape $(T_i, 4)$.\n",
    "\n",
    "Inspect the function `process_unet_predictions`. It should return the predicted label sequence (in ordinal form, not one-hot-encoded), and the corresponding probabilty estimates. **It follows a similar logic to 2.1 of this tutorial** ."
   ],
   "metadata": {
    "id": "hejZtJ4zi2ql"
   }
  },
  {
   "cell_type": "code",
   "execution_count": null,
   "metadata": {
    "id": "qR8rESw0_WgU"
   },
   "outputs": [],
   "source": [
    "def process_unet_predictions(preds, dataframe, dataset, patch_size, stride):\n",
    "  num_observations = len(dataframe)\n",
    "  output_probs = np.ndarray(shape=(num_observations), dtype=np.ndarray)\n",
    "  output_seqs = np.ndarray(shape=(num_observations), dtype=np.ndarray)\n",
    "  preds_idx = 0\n",
    "  for idx, sample in tqdm(enumerate(dataframe)):\n",
    "    sound = sample[2]\n",
    "    sound_duration = len(sound)\n",
    "    # number of patches associated to this sound\n",
    "    number_patches = int((sound_duration - patch_size) / stride)\n",
    "    if (sound_duration - patch_size) % stride > 0:\n",
    "      number_patches += 1\n",
    "    prob_sound = np.zeros((number_patches, sound_duration, 4))\n",
    "    for i in range(number_patches):\n",
    "      prob_sound[i, i * stride:i * stride + patch_size, :] = preds[preds_idx, :, :]\n",
    "      preds_idx += 1\n",
    "    if (sound_duration - patch_size) % stride > 0:\n",
    "      prob_sound[number_patches - 1, sound_duration - patch_size:, :] = preds[preds_idx, :, :]\n",
    "      preds_idx +=1\n",
    "\n",
    "    probs_patch = tf.reduce_sum(prob_sound, axis=0)\n",
    "    probs_patch_normalized = probs_patch /  (tf.reduce_sum(prob_sound, axis=[0,2])[:, tf.newaxis] + 1e-12)\n",
    "    output_probs[idx] = probs_patch_normalized\n",
    "    output_seqs[idx] = tf.argmax(probs_patch_normalized, axis=1)\n",
    "  return output_probs, output_seqs\n",
    "\n",
    "\n",
    "probs, predictions = process_unet_predictions(predictions_test, test, test_dataset, patch_size, stride)\n"
   ]
  },
  {
   "cell_type": "markdown",
   "source": [
    "## 4.2 Decoding\n",
    "\n",
    "The U-Net outputs estimates patch-by-patch, meaning it can output invalid heart sequences, e.g. going from S1 directly to S2 (we are assuming that screening is not interrupted here).\n",
    "\n",
    "Implement a deconding function that takes the sequence predicted patch-by-patch that you recovered using `process_unet_predictions` and processes the output to be valid. You can change the output according to any criteria you want.\n",
    "\n",
    "The function you implement should pass the unit test in the cell bellow."
   ],
   "metadata": {
    "id": "SBCpFnH6glrV"
   }
  },
  {
   "cell_type": "code",
   "source": [
    "def your_deconding_function(seq, num_states=4):\n",
    "  return seq\n",
    "\n",
    "test_seq = np.array([1, 1, 1, 2, 1, 2, 2, 3, 3, 0, 3])\n",
    "exp_seq = np.array([1, 1, 1, 2, 2, 2, 2, 3, 3, 0, 0])\n",
    "\n",
    "your_deconding_function(test_seq)\n",
    "assert np.all(exp_seq == test_seq)"
   ],
   "metadata": {
    "id": "Bn9m8WBbUS6L"
   },
   "execution_count": null,
   "outputs": []
  },
  {
   "cell_type": "markdown",
   "source": [
    "## 4.3. Get the ground truth and predicted state sequences\n",
    "Run the code below to get the state sequences."
   ],
   "metadata": {
    "id": "qWUPh_6bnIGK"
   }
  },
  {
   "cell_type": "code",
   "source": [
    "ground_truth = np.array([np.argmax(y, axis=1) for y in tqdm(test[:, -2])], dtype=object)\n",
    "predictions = np.array([your_deconding_function(prediction.numpy()) for prediction in predictions], dtype=object)"
   ],
   "metadata": {
    "id": "M4DEvRlMnHh7"
   },
   "execution_count": null,
   "outputs": []
  },
  {
   "cell_type": "markdown",
   "metadata": {
    "id": "Lcertbz1rTDs"
   },
   "source": [
    "## 5. Evaluation - metrics of Schmidt et al."
   ]
  },
  {
   "cell_type": "markdown",
   "source": [
    "We will follow [Schmidt et al.](https://iopscience.iop.org/article/10.1088/0967-3334/31/4/004/pdf). A sound is true positive (TP) or correctly located if\n",
    "the middle of the detected sound is closer than 60 ms to the middle of a similarly predefined sound, all other detected sounds were defined as false positive (FP).\n",
    "\n",
    "Sensitivity is defined as:\n",
    "\\begin{equation}\n",
    "\\text{Sensitivity} = \\frac{\\text{number of TP sounds}}{\\text{total number of S1 and S2 sounds}}\n",
    "\\end{equation}\n",
    "\n",
    "and positive predictivity ($P_+$):\n",
    "\\begin{equation}\n",
    "P_+ = \\frac{\\text{number of TP sounds}}{\\text{number of TP sounds} + \\text{number of FP sounds}}.\n",
    "\\end{equation}\n",
    "\n",
    "These metrics are tricky to implement so we provide them beforehand (the authors may or may not had a little help of o1-preview for this step:))"
   ],
   "metadata": {
    "id": "spd45TU_j-62"
   }
  },
  {
   "cell_type": "code",
   "source": [
    "import numpy as np\n",
    "from sklearn.metrics import accuracy_score\n",
    "def extract_state_runs(labels, desired_states):\n",
    "    \"\"\"\n",
    "    Extract continuous runs of the desired states from labels.\n",
    "\n",
    "    Args:\n",
    "        labels: numpy array of labels.\n",
    "        desired_states: set of desired state values.\n",
    "\n",
    "    Returns:\n",
    "        A list of dictionaries with keys:\n",
    "            'start': start index of the run\n",
    "            'end': end index of the run (inclusive)\n",
    "            'midpoint': midpoint index of the run\n",
    "            'state': the state value (0 or 2)\n",
    "    \"\"\"\n",
    "    # Ensure labels is a 1D array\n",
    "    labels = np.asarray(labels).flatten()\n",
    "\n",
    "    runs = []\n",
    "    N = len(labels)\n",
    "    in_run = False\n",
    "    run_start = 0\n",
    "    run_state = None\n",
    "\n",
    "    for i in range(N):\n",
    "        label_i = labels[i]\n",
    "        # If label_i is an array (e.g., from a structured array), extract scalar\n",
    "        if isinstance(label_i, np.ndarray):\n",
    "            label_i = label_i.item()\n",
    "        if label_i in desired_states:\n",
    "            if not in_run:\n",
    "                # Start of a new run\n",
    "                in_run = True\n",
    "                run_start = i\n",
    "                run_state = label_i\n",
    "        else:\n",
    "            if in_run:\n",
    "                # End of the run\n",
    "                run_end = i - 1\n",
    "                midpoint = (run_start + run_end) // 2\n",
    "                runs.append({\n",
    "                    'start': run_start,\n",
    "                    'end': run_end,\n",
    "                    'midpoint': midpoint,\n",
    "                    'state': run_state\n",
    "                })\n",
    "                in_run = False\n",
    "                run_state = None\n",
    "    # Check if we're still in a run at the end\n",
    "    if in_run:\n",
    "        run_end = N - 1\n",
    "        midpoint = (run_start + run_end) // 2\n",
    "        runs.append({\n",
    "            'start': run_start,\n",
    "            'end': run_end,\n",
    "            'midpoint': midpoint,\n",
    "            'state': run_state\n",
    "        })\n",
    "    return runs\n",
    "\n",
    "def compute_ppv_sensitivity(ground_truth, predictions, sample_rate, threshold=60e-3):\n",
    "    \"\"\"\n",
    "    Compute PPV and sensitivity for states 0 and 2.\n",
    "\n",
    "    Args:\n",
    "        ground_truth: numpy array of ground truth labels.\n",
    "        predictions: numpy array of predicted labels.\n",
    "        sample_rate: sampling rate in Hz.\n",
    "\n",
    "    Returns:\n",
    "        ppv: Positive Predictive Value.\n",
    "        sensitivity: Sensitivity (Recall).\n",
    "    \"\"\"\n",
    "    # Ensure ground_truth and predictions are 1D arrays\n",
    "    ground_truth = np.asarray(ground_truth).flatten()\n",
    "    predictions = np.asarray(predictions).flatten()\n",
    "\n",
    "    # Desired states\n",
    "    desired_states = {0, 2}\n",
    "\n",
    "    # Maximum distance in samples (treshold in seconds vs fs)\n",
    "    max_distance_samples = int(threshold * sample_rate)\n",
    "\n",
    "    # Extract runs from ground truth and predictions\n",
    "    gt_runs = extract_state_runs(ground_truth, desired_states)\n",
    "    pred_runs = extract_state_runs(predictions, desired_states)\n",
    "\n",
    "    # Get midpoints and states\n",
    "    gt_midpoints = np.array([run['midpoint'] for run in gt_runs])\n",
    "    gt_states = np.array([run['state'] for run in gt_runs])\n",
    "\n",
    "    pred_midpoints = np.array([run['midpoint'] for run in pred_runs])\n",
    "    pred_states = np.array([run['state'] for run in pred_runs])\n",
    "\n",
    "    # Initialize matches\n",
    "    matched_gt_indices = set()\n",
    "    matched_pred_indices = set()\n",
    "\n",
    "    # Build potential matches\n",
    "    potential_matches = []\n",
    "    for i, (p_mid, p_state) in enumerate(zip(pred_midpoints, pred_states)):\n",
    "        for j, (gt_mid, gt_state) in enumerate(zip(gt_midpoints, gt_states)):\n",
    "            if gt_state == p_state:\n",
    "                distance = abs(p_mid - gt_mid)\n",
    "                if distance <= max_distance_samples:\n",
    "                    potential_matches.append((i, j, distance))\n",
    "\n",
    "    # Sort potential matches by distance\n",
    "    potential_matches.sort(key=lambda x: x[2])\n",
    "\n",
    "    # Perform matching\n",
    "    TP = 0\n",
    "    for i, j, d in potential_matches:\n",
    "        if i not in matched_pred_indices and j not in matched_gt_indices:\n",
    "            matched_pred_indices.add(i)\n",
    "            matched_gt_indices.add(j)\n",
    "            TP += 1\n",
    "\n",
    "    # Compute FP and FN\n",
    "    total_pred = len(pred_midpoints)\n",
    "    total_gt = len(gt_midpoints)\n",
    "    FP = total_pred - len(matched_pred_indices)\n",
    "    FN = total_gt - len(matched_gt_indices)\n",
    "\n",
    "    # Compute PPV and Sensitivity\n",
    "    ppv = TP / (TP + FP) if (TP + FP) > 0 else 0\n",
    "    sensitivity = TP / (TP + FN) if (TP + FN) > 0 else 0\n",
    "\n",
    "    return ppv, sensitivity\n",
    "\n",
    "\n",
    "def compute_schmidt_metrics(ground_truth, sequences, sampling_rate):\n",
    "  ppvs, sensitivities, accuracies = [], [], []\n",
    "  for i in tqdm(range(len(ground_truth))):\n",
    "    ppv, sensitivity = compute_ppv_sensitivity(ground_truth[i],\n",
    "                                               sequences[i],\n",
    "                                               sampling_rate)\n",
    "    ppvs.append(ppv)\n",
    "    sensitivities.append(sensitivity)\n",
    "    accuracies.append(accuracy_score(ground_truth[i], sequences[i]))\n",
    "  return np.array(ppvs), np.array(sensitivities), np.array(accuracies)\n",
    "\n",
    "\n",
    "ppv, sens, acc = compute_schmidt_metrics(ground_truth, predictions, sampling_rate=50)"
   ],
   "metadata": {
    "id": "ToU9mc7mj9ET",
    "colab": {
     "base_uri": "https://localhost:8080/"
    },
    "outputId": "07608170-90db-455c-e345-905bd8bc5491",
    "pycharm": {
     "is_executing": true
    }
   },
   "execution_count": null,
   "outputs": []
  },
  {
   "cell_type": "markdown",
   "source": [
    "# 5.1 Inspect results\n",
    "Inspect a result where your metrics had satisfactory performance (all above 90\\%) and one where the result was less positive. Discuss the differences."
   ],
   "metadata": {
    "id": "6Byv2zlqkqmY"
   }
  },
  {
   "cell_type": "code",
   "execution_count": null,
   "metadata": {
    "id": "JeMhYjwjSBf0"
   },
   "outputs": [],
   "source": [
    "import matplotlib.pyplot as plt\n",
    "import numpy as np\n",
    "\n",
    "\n",
    "def visualize_predictions(ground_truth, seqs, idx):\n",
    "\n",
    "  # Define the window width in terms of seconds and convert to the corresponding sample range\n",
    "  window_duration = 0.1  # 0.06 ms in seconds\n",
    "  sample_interval = 1 / 50  # Time per sample in seconds (20 ms per sample at 50 Hz)\n",
    "\n",
    "  # Calculate the equivalent width in terms of sample indices (will be <1)\n",
    "  window_width_samples = window_duration / sample_interval\n",
    "\n",
    "  # Create the plot\n",
    "  plt.figure(figsize=(24, 6))\n",
    "\n",
    "  # Plot ground truth and predictions with discrete markers and dotted lines\n",
    "  plt.plot(ground_truth[idx], 'o--', label='Ground Truth', markersize=6)\n",
    "  plt.plot(seqs[idx], 'o--', color='red', label='Predictions', markersize=6)\n",
    "\n",
    "\n",
    "  # Set labels and legend\n",
    "  plt.title(f'Signal at idx {idx} with 0.06 ms reference window')\n",
    "  plt.xlabel('Sample Index')\n",
    "  plt.ylabel('Amplitude')\n",
    "  plt.legend()\n",
    "  plt.grid(True)\n",
    "  plt.show()\n",
    "\n"
   ]
  },
  {
   "cell_type": "markdown",
   "source": [
    "See if you can find an example where the segmentation is plausible with good metrics, and the other that is not.\n",
    "\n",
    "Use `visualize_predictions` to do so."
   ],
   "metadata": {
    "id": "Qtx2sjR0hDzB"
   }
  },
  {
   "cell_type": "code",
   "source": [
    "idx = 0\n",
    "visualize_predictions(ground_truth, predictions, idx)\n",
    "ppv[idx], sens[idx], acc[idx]"
   ],
   "metadata": {
    "id": "mvURQ7vngJIb"
   },
   "execution_count": null,
   "outputs": []
  },
  {
   "cell_type": "code",
   "source": [
    "idx = 100\n",
    "visualize_predictions(ground_truth, predictions, idx)\n",
    "ppv[idx], sens[idx], acc[idx]"
   ],
   "metadata": {
    "id": "FyDw8OVqf6wC"
   },
   "execution_count": null,
   "outputs": []
  },
  {
   "cell_type": "markdown",
   "source": [
    "# 5.2 - Bonus points\n",
    "\n",
    "What other architectural changes do you think would be suitable for this problem?\n",
    "\n",
    "Can you think of possible data augmentation schemes for this problem?\n"
   ],
   "metadata": {
    "id": "Vlb1MLUUk66v"
   }
  },
  {
   "cell_type": "code",
   "source": [],
   "metadata": {
    "id": "fs59z5Frd_hB"
   },
   "execution_count": null,
   "outputs": []
  },
  {
   "cell_type": "markdown",
   "source": [
    "# 6. Classification\n",
    "Let us solve the classification task of Murmur detection. First, let us visualize the distribution of class. Remember that the ordinal classes represent the following:\n",
    "\n",
    "0 - normal; 1- murmur; 2-unknown."
   ],
   "metadata": {
    "id": "t7S0Y-lHc4jV"
   }
  },
  {
   "cell_type": "code",
   "source": [
    "import numpy as np\n",
    "import matplotlib.pyplot as plt\n",
    "\n",
    "# Example one-hot encoded labels (each row corresponds to one label)\n",
    "\n",
    "def plot_label_frequency(ordinal_labels, ax, title):\n",
    "    ax.hist(ordinal_labels, bins=np.arange(ordinal_labels.max() + 2) - 0.5, edgecolor='black')\n",
    "    ax.set_xticks(np.arange(ordinal_labels.max() + 1))\n",
    "    ax.set_xlabel('Class Label')\n",
    "    ax.set_ylabel('Frequency')\n",
    "    ax.set_title(title)\n",
    "# Plot the histogram\n",
    "# Create a figure with 3 subplots side by side\n",
    "fig, axes = plt.subplots(1, 3, figsize=(15, 5))\n",
    "\n",
    "# Plot the histograms for train, val, and test\n",
    "plot_label_frequency(train[:, -1], axes[0], 'Train Label Occurrences')\n",
    "plot_label_frequency(val[:, -1], axes[1], 'Val Label Occurrences')\n",
    "plot_label_frequency(test[:, -1], axes[2], 'Test Label Occurrences')\n",
    "\n",
    "# Adjust layout to prevent overlap\n",
    "plt.tight_layout()\n",
    "plt.show()\n",
    "\n"
   ],
   "metadata": {
    "id": "-qGtVqMf6wT1"
   },
   "execution_count": null,
   "outputs": []
  },
  {
   "cell_type": "markdown",
   "source": [
    "## 6.1 - Fixing the dimensions of the classifier\n",
    "\n",
    "One of the challenges of this dataset is that the inputs are sequential and of variable length. While it should not make a difference from a theoretical standpoint, the deep neural network APIs such as TensorFlow or PyTorch are optimized to work with fixed length inputs.\n",
    "\n",
    "In the first part we did not had to worry with this explicitely, because we trained the U-Net patch by patch, and only processed each recording sequences post-hoc. However, now our model will have to receive entire sounds during training, since the labels depend on the entire recording.\n",
    "\n",
    "We will provide you the most basic solution for this: we will get rid of the temporal dimension $T_i$ by pooling."
   ],
   "metadata": {
    "id": "m3ZnlGRudYge"
   }
  },
  {
   "cell_type": "markdown",
   "source": [
    "## 6.1.1. - Naive classifier - The characteristic U-Net representation\n",
    "\n",
    "Our goal is to learn a fixed-length representation $E \\in \\mathbb{R}^d$ so that we can then feed it to a downstream classifier learning the mapping $\\mathbb{R}^d → \\{0, 1, 2\\}$. Again we will be using a deep neural network, and we are going to take advantage of the logits of the U-Net, i.e., the output of the softmax that provides us with a *continuous representation of the signal*.\n",
    "\n",
    "Specifically, we are going to collect the logits after sequence decoding. Our hope is that the \"confidence\" of the U-Net will correlate with the presence/absence of murmurs. Moreover, if the pathology affects the dynamics of the heart-cycle in terms of the duration of each state, then these representations should naturally embed that information provided that the U-Net is a computetend fundamental heart sound segmentator.\n",
    "\n",
    "Remember from **Section 2.1.2 of Tutorial 1** that the standard deviation of the noise of the sound is mitigated by a factor of $\\frac{1}{\\sqrt{T_i}}$. A possible strategy of characterizing the PCG of a patient is precisely by its characteristic heart cycle.\n",
    "\n",
    "Our naive classifier will take as input the normalized average \"energy\" of each heart sound in recording $i$ according to the U-Net. Specifically:\n",
    "\n",
    "$$\\mathbf{x}_i^\\text{characteristic}(\\theta^*) = \\frac{1}{T_i}\\sum_{i=1}^{T_i} \\text{U-Net}(x_i| \\theta^*)$$\n",
    "\n",
    "We will use a multi-layer perceptron (MLP) to map $\\mathbf{x}_i^\\text{characteristic}$ to its associated class.\n",
    "\n",
    "Collect the processed logits using `process_unet_predictions` for the `train`, `val`, and `test` datasets and compute the characteristic heart sound according to the above formulation."
   ],
   "metadata": {
    "id": "EE5mYIG_fea-"
   }
  },
  {
   "cell_type": "code",
   "source": [
    "probs_train, predictions_train = process_unet_predictions(predictions_train, train, train_dataset, patch_size, stride)\n",
    "probs_val, predictions_val = process_unet_predictions(val_test, val, val_dataset, patch_size, stride)\n",
    "probs_test, predictions_test = process_unet_predictions(predictions_test, test, test_dataset, patch_size, stride)"
   ],
   "metadata": {
    "colab": {
     "base_uri": "https://localhost:8080/"
    },
    "id": "4JSR0N_n2dnE",
    "outputId": "09f03a63-56f6-4f1f-9cdb-a1aafd70d8a3",
    "pycharm": {
     "is_executing": true
    }
   },
   "execution_count": null,
   "outputs": []
  },
  {
   "cell_type": "code",
   "source": [
    "probs_train_ = np.array([np.sum(prob, axis=0) / prob.shape[0] for prob in probs_train], dtype=object)\n",
    "probs_val_ = np.array([np.sum(prob, axis=0) / prob.shape[0] for prob in probs_val], dtype=object)\n",
    "probs_test_ = np.array([np.sum(prob, axis=0) / prob.shape[0] for prob in probs_test], dtype=object)"
   ],
   "metadata": {
    "id": "opgwHs2Z2jz0"
   },
   "execution_count": null,
   "outputs": []
  },
  {
   "cell_type": "code",
   "source": [
    "probs_train[0].shape, probs_train_[0].shape"
   ],
   "metadata": {
    "colab": {
     "base_uri": "https://localhost:8080/"
    },
    "id": "JPpyAGKN4FQ0",
    "outputId": "bbdbb3e3-38d9-431c-864e-036d951a849a",
    "pycharm": {
     "is_executing": true
    }
   },
   "execution_count": null,
   "outputs": []
  },
  {
   "cell_type": "markdown",
   "source": [
    "## 6.2.1 - Classification inference pipeline\n",
    "Like in section 2.1.2 of this tutorial, we need to create a `tf.data.Dataset` object in order to train our custom models.\n",
    "\n",
    "We provide the code for the `PCGDataPreparerClassifier` which is designed for our naive classifier."
   ],
   "metadata": {
    "id": "x46QHJbUkPEs"
   }
  },
  {
   "cell_type": "code",
   "source": [
    "BATCH_SIZE = 32\n",
    "\n",
    "class PCGDataPreparerClassifier:\n",
    "    def __init__(self, features, labels, num_states: int=3):\n",
    "        self.x = features\n",
    "        self.y = labels\n",
    "        self.num_states = num_states\n",
    "\n",
    "    def __call__(self):\n",
    "        num_observations = len(self.x)\n",
    "        for idx in range(num_observations):\n",
    "          yield self.x[idx], tf.one_hot(self.y[idx], depth=self.num_states)\n",
    "\n",
    "dp_train = PCGDataPreparerClassifier(probs_train_, train[:, -1], num_states=3)\n",
    "dp_val = PCGDataPreparerClassifier(probs_val_, val[:, -1], num_states=3)\n",
    "dp_test = PCGDataPreparerClassifier(probs_test_, test[:, -1], num_states=3)\n",
    "def get_data_from_generator_classifier(*, data_processor, batch_size, number_channels, number_classes, trainable=True):\n",
    "    data = tf.data.Dataset.from_generator(data_processor,\n",
    "                                          output_signature=(\n",
    "                                              tf.TensorSpec(shape=(number_channels), dtype=tf.float32),\n",
    "                                              tf.TensorSpec(shape=(number_classes), dtype=tf.float32))\n",
    "                                          )\n",
    "    if trainable:\n",
    "        data = data.shuffle(5000, reshuffle_each_iteration=True)\n",
    "        data.cache()\n",
    "    data = data.batch(batch_size)\n",
    "    data = data.prefetch(tf.data.AUTOTUNE)\n",
    "    return data\n",
    "\n",
    "train_dataset = get_data_from_generator_classifier(data_processor=dp_train,\n",
    "                                                batch_size=BATCH_SIZE,\n",
    "                                                   number_channels=4,\n",
    "                                                number_classes=3,\n",
    "                                                trainable=True)\n",
    "\n",
    "\n",
    "val_dataset = get_data_from_generator_classifier(data_processor=dp_val,\n",
    "                                                batch_size=BATCH_SIZE,\n",
    "                                                 number_channels=4,\n",
    "                                                number_classes=3,\n",
    "                                                trainable=False)\n",
    "\n",
    "\n",
    "test_dataset = get_data_from_generator_classifier(data_processor=dp_test,\n",
    "                                                batch_size=BATCH_SIZE,\n",
    "                                                  number_channels=4,\n",
    "                                                number_classes=3,\n",
    "                                                trainable=False)\n"
   ],
   "metadata": {
    "id": "mySdEBAg9o9m"
   },
   "execution_count": null,
   "outputs": []
  },
  {
   "cell_type": "markdown",
   "source": [
    "## 6.2.2 - The MLP architecture\n",
    "\n",
    "We will design a simple two layer MLP, comprised of a batch normalization layer and an output layer with a `softmax` function."
   ],
   "metadata": {
    "id": "s7fZN0DVkry4"
   }
  },
  {
   "cell_type": "code",
   "source": [
    "# Create the MLP model\n",
    "model = tf.keras.Sequential()\n",
    "model.add(tf.keras.layers.BatchNormalization())\n",
    "model.add(tf.keras.layers.Dense(3, activation='softmax'))\n",
    "\n",
    "\n",
    "model.summary()"
   ],
   "metadata": {
    "colab": {
     "base_uri": "https://localhost:8080/",
     "height": 215
    },
    "id": "f2pAjt3S9_V-",
    "outputId": "fde1d69c-7983-43ab-edfe-65244e78219b"
   },
   "execution_count": null,
   "outputs": [
    {
     "output_type": "display_data",
     "data": {
      "text/plain": [
       "\u001B[1mModel: \"sequential\"\u001B[0m\n"
      ],
      "text/html": [
       "<pre style=\"white-space:pre;overflow-x:auto;line-height:normal;font-family:Menlo,'DejaVu Sans Mono',consolas,'Courier New',monospace\"><span style=\"font-weight: bold\">Model: \"sequential\"</span>\n",
       "</pre>\n"
      ]
     },
     "metadata": {}
    },
    {
     "output_type": "display_data",
     "data": {
      "text/plain": [
       "┏━━━━━━━━━━━━━━━━━━━━━━━━━━━━━━━━━━━━━━┳━━━━━━━━━━━━━━━━━━━━━━━━━━━━━┳━━━━━━━━━━━━━━━━━┓\n",
       "┃\u001B[1m \u001B[0m\u001B[1mLayer (type)                        \u001B[0m\u001B[1m \u001B[0m┃\u001B[1m \u001B[0m\u001B[1mOutput Shape               \u001B[0m\u001B[1m \u001B[0m┃\u001B[1m \u001B[0m\u001B[1m        Param #\u001B[0m\u001B[1m \u001B[0m┃\n",
       "┡━━━━━━━━━━━━━━━━━━━━━━━━━━━━━━━━━━━━━━╇━━━━━━━━━━━━━━━━━━━━━━━━━━━━━╇━━━━━━━━━━━━━━━━━┩\n",
       "│ batch_normalization                  │ ?                           │     \u001B[38;5;34m0\u001B[0m (unbuilt) │\n",
       "│ (\u001B[38;5;33mBatchNormalization\u001B[0m)                 │                             │                 │\n",
       "├──────────────────────────────────────┼─────────────────────────────┼─────────────────┤\n",
       "│ dense (\u001B[38;5;33mDense\u001B[0m)                        │ ?                           │     \u001B[38;5;34m0\u001B[0m (unbuilt) │\n",
       "└──────────────────────────────────────┴─────────────────────────────┴─────────────────┘\n"
      ],
      "text/html": [
       "<pre style=\"white-space:pre;overflow-x:auto;line-height:normal;font-family:Menlo,'DejaVu Sans Mono',consolas,'Courier New',monospace\">┏━━━━━━━━━━━━━━━━━━━━━━━━━━━━━━━━━━━━━━┳━━━━━━━━━━━━━━━━━━━━━━━━━━━━━┳━━━━━━━━━━━━━━━━━┓\n",
       "┃<span style=\"font-weight: bold\"> Layer (type)                         </span>┃<span style=\"font-weight: bold\"> Output Shape                </span>┃<span style=\"font-weight: bold\">         Param # </span>┃\n",
       "┡━━━━━━━━━━━━━━━━━━━━━━━━━━━━━━━━━━━━━━╇━━━━━━━━━━━━━━━━━━━━━━━━━━━━━╇━━━━━━━━━━━━━━━━━┩\n",
       "│ batch_normalization                  │ ?                           │     <span style=\"color: #00af00; text-decoration-color: #00af00\">0</span> (unbuilt) │\n",
       "│ (<span style=\"color: #0087ff; text-decoration-color: #0087ff\">BatchNormalization</span>)                 │                             │                 │\n",
       "├──────────────────────────────────────┼─────────────────────────────┼─────────────────┤\n",
       "│ dense (<span style=\"color: #0087ff; text-decoration-color: #0087ff\">Dense</span>)                        │ ?                           │     <span style=\"color: #00af00; text-decoration-color: #00af00\">0</span> (unbuilt) │\n",
       "└──────────────────────────────────────┴─────────────────────────────┴─────────────────┘\n",
       "</pre>\n"
      ]
     },
     "metadata": {}
    },
    {
     "output_type": "display_data",
     "data": {
      "text/plain": [
       "\u001B[1m Total params: \u001B[0m\u001B[38;5;34m0\u001B[0m (0.00 B)\n"
      ],
      "text/html": [
       "<pre style=\"white-space:pre;overflow-x:auto;line-height:normal;font-family:Menlo,'DejaVu Sans Mono',consolas,'Courier New',monospace\"><span style=\"font-weight: bold\"> Total params: </span><span style=\"color: #00af00; text-decoration-color: #00af00\">0</span> (0.00 B)\n",
       "</pre>\n"
      ]
     },
     "metadata": {}
    },
    {
     "output_type": "display_data",
     "data": {
      "text/plain": [
       "\u001B[1m Trainable params: \u001B[0m\u001B[38;5;34m0\u001B[0m (0.00 B)\n"
      ],
      "text/html": [
       "<pre style=\"white-space:pre;overflow-x:auto;line-height:normal;font-family:Menlo,'DejaVu Sans Mono',consolas,'Courier New',monospace\"><span style=\"font-weight: bold\"> Trainable params: </span><span style=\"color: #00af00; text-decoration-color: #00af00\">0</span> (0.00 B)\n",
       "</pre>\n"
      ]
     },
     "metadata": {}
    },
    {
     "output_type": "display_data",
     "data": {
      "text/plain": [
       "\u001B[1m Non-trainable params: \u001B[0m\u001B[38;5;34m0\u001B[0m (0.00 B)\n"
      ],
      "text/html": [
       "<pre style=\"white-space:pre;overflow-x:auto;line-height:normal;font-family:Menlo,'DejaVu Sans Mono',consolas,'Courier New',monospace\"><span style=\"font-weight: bold\"> Non-trainable params: </span><span style=\"color: #00af00; text-decoration-color: #00af00\">0</span> (0.00 B)\n",
       "</pre>\n"
      ]
     },
     "metadata": {}
    }
   ]
  },
  {
   "cell_type": "markdown",
   "source": [
    "## 6.2.3 - Classifier training pipeline\n",
    "Complete the following code to\n",
    "* Train for 50 epochs\n",
    "* Perform early stopping according to the minimum validation loss\n",
    "* Start with a learning rate of `1e-3`\n",
    "* Select your favorite stochastic gradient descent optimizer\n",
    "* Select at least `accuracy`, `precision`, and `recall` as your metrics\n"
   ],
   "metadata": {
    "id": "bNv4EzFslMBo"
   }
  },
  {
   "cell_type": "code",
   "source": [
    "from sklearn.utils import class_weight\n",
    "checkpoint_path = 'classifier/checkpoint.keras'\n",
    "EPOCHS = 50\n",
    "\n",
    "model.compile(optimizer=Adam(learning_rate=1e-3), loss='categorical_crossentropy',\n",
    "                  metrics=['categorical_accuracy', 'precision', 'recall', 'auc'])\n",
    "model_checkpoint = ModelCheckpoint(filepath=checkpoint_path, monitor='val_loss', save_best_only=True)\n",
    "history = model.fit(train_dataset,\n",
    "                    validation_data=val_dataset,\n",
    "                    epochs=EPOCHS,\n",
    "                    verbose=1,\n",
    "                    shuffle=True,\n",
    "                    callbacks=[model_checkpoint])\n",
    "\n",
    "model.load_weights(checkpoint_path)\n",
    "\n",
    "model.evaluate(test_dataset)"
   ],
   "metadata": {
    "id": "uN9swm1B-Lkh"
   },
   "execution_count": null,
   "outputs": []
  },
  {
   "cell_type": "markdown",
   "source": [
    "## 6.2.4 - Evaluation\n",
    "Evaluate the model on the test set. Give aggregated and per class accuracy, precision, and recalls."
   ],
   "metadata": {
    "id": "gWLqUHKSlt6o"
   }
  },
  {
   "cell_type": "code",
   "source": [
    "preds_test = model.predict(test_dataset)\n",
    "preds_test = np.argmax(preds_test, axis=-1)"
   ],
   "metadata": {
    "id": "nefWgH35wWLO",
    "colab": {
     "base_uri": "https://localhost:8080/"
    },
    "outputId": "c12fd032-5303-4bb1-9ccb-227f28190ded",
    "pycharm": {
     "is_executing": true
    }
   },
   "execution_count": null,
   "outputs": []
  },
  {
   "cell_type": "code",
   "source": [
    "labels_test = test[:, -1].astype(np.int32)\n",
    "preds_test = preds_test.astype(np.int32)"
   ],
   "metadata": {
    "id": "Xxgpcd0Yqv7m"
   },
   "execution_count": null,
   "outputs": []
  },
  {
   "cell_type": "code",
   "source": [
    "from sklearn.metrics import accuracy_score, precision_score, recall_score, classification_report\n",
    "accuracy = accuracy_score(labels_test, preds_test)\n",
    "print(f'Overall Accuracy: {accuracy:.4f}')\n",
    "report = classification_report(labels_test, preds_test)\n",
    "print(report)"
   ],
   "metadata": {
    "id": "dkUG21oHp2J_",
    "colab": {
     "base_uri": "https://localhost:8080/"
    },
    "outputId": "51b68df9-12a1-456d-d97b-b0f195d570cf",
    "pycharm": {
     "is_executing": true
    }
   },
   "execution_count": null,
   "outputs": []
  },
  {
   "cell_type": "markdown",
   "source": [
    "## 6.2.5 - Bonus: Improve classifier\n",
    "The distribution is clearly unbalanced. Do you think this is problematic given the performance you observe on the test set?\n",
    "\n",
    "Can you improve the training routine to account for this unbalance without changing the architecture?"
   ],
   "metadata": {
    "id": "thFrxiPKl4X5"
   }
  },
  {
   "cell_type": "code",
   "source": [],
   "metadata": {
    "id": "WPFk-lZ6n6wC"
   },
   "execution_count": null,
   "outputs": []
  },
  {
   "cell_type": "markdown",
   "source": [
    "## 6.2.6 - Bonus: Improve pipeline\n",
    "Murmurs may only be present in the systole or the diastole. However, our previous representation uses all of the fundamental heart sounds to output a prediction. Can you leverage this prior information to improve performance? Could you use the U-Net predictions to extract the location of the sounds in the original spectogram?\n",
    "\n",
    "After this; do you think you can improve the classifier as a whole? What if we had another type of fixed representation; say the MFCC or PSD of the recordings with a fix dimension, could we use a more sophisticated architecture? Try to implement it. If you do not have time, write down your thoughts in a text cell!"
   ],
   "metadata": {
    "id": "_WWFDlEhOQqo"
   }
  },
  {
   "cell_type": "code",
   "source": [],
   "metadata": {
    "id": "LjegLnHamRo_"
   },
   "execution_count": null,
   "outputs": []
  },
  {
   "cell_type": "markdown",
   "source": [
    "# Final submission\n",
    "Send your .ipynb files to francesco.renna@fc.up.pt as well as 3 slides summarizing your approaches for both tutorials 1 and 2."
   ],
   "metadata": {
    "id": "hdzj-LDHoKLS"
   }
  },
  {
   "cell_type": "code",
   "source": [],
   "metadata": {
    "id": "YsdbrlTioNSS"
   },
   "execution_count": null,
   "outputs": []
  }
 ],
 "metadata": {
  "accelerator": "GPU",
  "colab": {
   "gpuType": "T4",
   "provenance": [],
   "machine_shape": "hm"
  },
  "kernelspec": {
   "display_name": "Python 3",
   "name": "python3"
  },
  "language_info": {
   "name": "python"
  }
 },
 "nbformat": 4,
 "nbformat_minor": 0
}
